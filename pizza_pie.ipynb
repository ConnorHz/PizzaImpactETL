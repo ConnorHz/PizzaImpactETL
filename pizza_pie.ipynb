{
 "metadata": {
  "language_info": {
   "codemirror_mode": {
    "name": "ipython",
    "version": 3
   },
   "file_extension": ".py",
   "mimetype": "text/x-python",
   "name": "python",
   "nbconvert_exporter": "python",
   "pygments_lexer": "ipython3",
   "version": "3.6.10-final"
  },
  "orig_nbformat": 2,
  "kernelspec": {
   "name": "python3",
   "display_name": "Python 3.6.10 64-bit ('PythonData': conda)",
   "metadata": {
    "interpreter": {
     "hash": "7e7c916c673641125590bd307b68bb4342787996dc085909d7e5c72ee4d13010"
    }
   }
  }
 },
 "nbformat": 4,
 "nbformat_minor": 2,
 "cells": [
  {
   "cell_type": "code",
   "execution_count": 22,
   "metadata": {},
   "outputs": [],
   "source": [
    "import pandas as pd"
   ]
  },
  {
   "cell_type": "code",
   "execution_count": 23,
   "metadata": {},
   "outputs": [],
   "source": [
    "## path to the pizza\n",
    "path=\"pizza_file.csv\""
   ]
  },
  {
   "cell_type": "code",
   "execution_count": 24,
   "metadata": {},
   "outputs": [
    {
     "output_type": "execute_result",
     "data": {
      "text/plain": [
       "Index(['id', 'dateAdded', 'dateUpdated', 'address', 'categories',\n",
       "       'primaryCategories', 'city', 'country', 'keys', 'latitude', 'longitude',\n",
       "       'menuPageURL', 'menus.amountMax', 'menus.amountMin', 'menus.currency',\n",
       "       'menus.dateSeen', 'menus.description', 'menus.name', 'name',\n",
       "       'postalCode', 'priceRangeCurrency', 'priceRangeMin', 'priceRangeMax',\n",
       "       'province'],\n",
       "      dtype='object')"
      ]
     },
     "metadata": {},
     "execution_count": 24
    }
   ],
   "source": [
    "raw_pizza_df=pd.read_csv(path)\n",
    "##creating the raw dataframe \n",
    "raw_pizza_df.columns"
   ]
  },
  {
   "cell_type": "code",
   "execution_count": 25,
   "metadata": {},
   "outputs": [
    {
     "output_type": "execute_result",
     "data": {
      "text/plain": [
       "US    10000\n",
       "Name: country, dtype: int64"
      ]
     },
     "metadata": {},
     "execution_count": 25
    }
   ],
   "source": [
    "##removing cells we don't need and making a clean df\n",
    "clean_pizza=raw_pizza_df[['country','province','menus.amountMax','menus.currency','menus.name', 'name']]\n",
    "clean_pizza.head()\n",
    "\n",
    "# clean_pizza[\"menus.currency\"].value_counts()\n",
    "clean_pizza[\"country\"].value_counts()"
   ]
  },
  {
   "cell_type": "code",
   "execution_count": 26,
   "metadata": {},
   "outputs": [
    {
     "output_type": "execute_result",
     "data": {
      "text/plain": [
       "     state  price                                        menu_item  \\\n",
       "0       AR   7.98                                     Cheese Pizza   \n",
       "1       AZ   6.00                                     Pizza Cookie   \n",
       "2       OH   6.49                                     Pizza Blanca   \n",
       "3       MI   5.99                                      Small Pizza   \n",
       "4       MD   5.49                                        Pizza Sub   \n",
       "...    ...    ...                                              ...   \n",
       "9995    NY  37.10                                Super Steak Pizza   \n",
       "9996    NY  10.10                      Large Cheese & 1 Item Pizza   \n",
       "9997    IL   8.45  Individual 6\" Pepperoni Stuffed Deep Dish Pizza   \n",
       "9998    IL   8.45     Individual 6\" Cheese Stuffed Deep Dish Pizza   \n",
       "9999    NV   8.79                      King Arthur's Supreme Pizza   \n",
       "\n",
       "               store_name  \n",
       "0      Shotgun Dans Pizza  \n",
       "1        Sauce Pizza Wine  \n",
       "2           Mios Pizzeria  \n",
       "3     Hungry Howies Pizza  \n",
       "4        Spartan Pizzeria  \n",
       "...                   ...  \n",
       "9995   Carbone's Pizzeria  \n",
       "9996   Carbone's Pizzeria  \n",
       "9997     Giordano's Pizza  \n",
       "9998     Giordano's Pizza  \n",
       "9999    Round Table Pizza  \n",
       "\n",
       "[10000 rows x 4 columns]"
      ],
      "text/html": "<div>\n<style scoped>\n    .dataframe tbody tr th:only-of-type {\n        vertical-align: middle;\n    }\n\n    .dataframe tbody tr th {\n        vertical-align: top;\n    }\n\n    .dataframe thead th {\n        text-align: right;\n    }\n</style>\n<table border=\"1\" class=\"dataframe\">\n  <thead>\n    <tr style=\"text-align: right;\">\n      <th></th>\n      <th>state</th>\n      <th>price</th>\n      <th>menu_item</th>\n      <th>store_name</th>\n    </tr>\n  </thead>\n  <tbody>\n    <tr>\n      <th>0</th>\n      <td>AR</td>\n      <td>7.98</td>\n      <td>Cheese Pizza</td>\n      <td>Shotgun Dans Pizza</td>\n    </tr>\n    <tr>\n      <th>1</th>\n      <td>AZ</td>\n      <td>6.00</td>\n      <td>Pizza Cookie</td>\n      <td>Sauce Pizza Wine</td>\n    </tr>\n    <tr>\n      <th>2</th>\n      <td>OH</td>\n      <td>6.49</td>\n      <td>Pizza Blanca</td>\n      <td>Mios Pizzeria</td>\n    </tr>\n    <tr>\n      <th>3</th>\n      <td>MI</td>\n      <td>5.99</td>\n      <td>Small Pizza</td>\n      <td>Hungry Howies Pizza</td>\n    </tr>\n    <tr>\n      <th>4</th>\n      <td>MD</td>\n      <td>5.49</td>\n      <td>Pizza Sub</td>\n      <td>Spartan Pizzeria</td>\n    </tr>\n    <tr>\n      <th>...</th>\n      <td>...</td>\n      <td>...</td>\n      <td>...</td>\n      <td>...</td>\n    </tr>\n    <tr>\n      <th>9995</th>\n      <td>NY</td>\n      <td>37.10</td>\n      <td>Super Steak Pizza</td>\n      <td>Carbone's Pizzeria</td>\n    </tr>\n    <tr>\n      <th>9996</th>\n      <td>NY</td>\n      <td>10.10</td>\n      <td>Large Cheese &amp; 1 Item Pizza</td>\n      <td>Carbone's Pizzeria</td>\n    </tr>\n    <tr>\n      <th>9997</th>\n      <td>IL</td>\n      <td>8.45</td>\n      <td>Individual 6\" Pepperoni Stuffed Deep Dish Pizza</td>\n      <td>Giordano's Pizza</td>\n    </tr>\n    <tr>\n      <th>9998</th>\n      <td>IL</td>\n      <td>8.45</td>\n      <td>Individual 6\" Cheese Stuffed Deep Dish Pizza</td>\n      <td>Giordano's Pizza</td>\n    </tr>\n    <tr>\n      <th>9999</th>\n      <td>NV</td>\n      <td>8.79</td>\n      <td>King Arthur's Supreme Pizza</td>\n      <td>Round Table Pizza</td>\n    </tr>\n  </tbody>\n</table>\n<p>10000 rows × 4 columns</p>\n</div>"
     },
     "metadata": {},
     "execution_count": 26
    }
   ],
   "source": [
    "# making sure all the entries we're looking at are in USD and pizza in america\n",
    "\n",
    "clean_pizza=clean_pizza[(clean_pizza[\"menus.currency\"]==\"USD\") & (clean_pizza[\"country\"]==\"US\")][['province','menus.amountMax','menus.name', 'name']]\n",
    "\n",
    "#renaming columns\n",
    "clean_pizza.rename(columns={\n",
    "    \"province\":\"state\",\n",
    "    \"menus.amountMax\":\"price\",\n",
    "    \"menus.name\":\"menu_item\",\n",
    "    \"name\":\"store_name\"\n",
    "},inplace=True)\n",
    "\n",
    "clean_pizza"
   ]
  },
  {
   "cell_type": "code",
   "execution_count": null,
   "metadata": {},
   "outputs": [],
   "source": []
  }
 ]
}